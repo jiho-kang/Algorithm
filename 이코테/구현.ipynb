{
  "nbformat": 4,
  "nbformat_minor": 5,
  "metadata": {
    "jupytext": {
      "formats": "ipynb,auto:light"
    },
    "kernelspec": {
      "display_name": "Python 3",
      "language": "python",
      "name": "python3"
    },
    "language_info": {
      "codemirror_mode": {
        "name": "ipython",
        "version": 3
      },
      "file_extension": ".py",
      "mimetype": "text/x-python",
      "name": "python",
      "nbconvert_exporter": "python",
      "pygments_lexer": "ipython3",
      "version": "3.8.8"
    },
    "colab": {
      "name": "구현.ipynb",
      "provenance": []
    }
  },
  "cells": [
    {
      "cell_type": "markdown",
      "metadata": {
        "id": "54f1ca67"
      },
      "source": [
        "# 구현: 시뮬레이션과 완전 탐색"
      ],
      "id": "54f1ca67"
    },
    {
      "cell_type": "markdown",
      "metadata": {
        "id": "e6ec08e8"
      },
      "source": [
        "##### 구현: 머릿속에 있는 알고리즘을 소스코드로 바꾸는 과정\n",
        "##### 완전탐색: 가능한 모든 경우의 수를 탐색하는 것\n",
        "풀이를 떠올리는 것은 쉽지만 소스코드로 옮기기 어려운 문제\n",
        "    \n",
        "    알고리즘은 간단한데 코드가 지나칠 만큼 길어지거나,\n",
        "    실수 연산을 다루고, 특정 소수점 자리까지 출력\n",
        "    문자열을 특정한 기준에 따라 끊어 처리\n",
        "    적절한 라이브러리를 찾아서 사용해야 하는 문제 (순열, 조합)"
      ],
      "id": "e6ec08e8"
    },
    {
      "cell_type": "markdown",
      "metadata": {
        "id": "8040c5d0"
      },
      "source": [
        "일반적으로 알고리즘 문제에서의 2차원 공간은 행렬의 의미로 사용됨\n",
        "\n",
        "시뮬레이션 및 완전 탐색 문제에서는 2차원 공간에서의 방향 벡터가 사용됨"
      ],
      "id": "8040c5d0"
    },
    {
      "cell_type": "markdown",
      "metadata": {
        "id": "1b4126f3"
      },
      "source": [
        "## 문제1\n",
        "    여행가 A는 N x N 크기의 정사각형 공간 위에 서 있다. 이 공간은 1 X 1 크기의 정사각형으로 나누어져 있다.\n",
        "    가장 왼쪽 위에서 시작하며 좌표는 (1,1), 가장 오른쪽 아래 좌표는 (N,N)이다.\n",
        "    움직임은 상:U, 하:D, 좌:L, 우:R 로 이동할 수 있다.\n",
        "    이때 N x N 크기의 정사각형 공간을 벗어나는 움직임은 무시된다.\n",
        "    예를 들어 (1,)의 위치에서 L 혹은 U를 만나면 무시된다.\n",
        "    공간의 크기 N과 이동 계획이 주어질 때, 도착 지점의 좌표 (X,Y)를 공백을 기준으로 구분해서 출력하여라"
      ],
      "id": "1b4126f3"
    },
    {
      "cell_type": "markdown",
      "metadata": {
        "id": "AdpabqK4t8XA"
      },
      "source": [
        "#### 내 해답 (21.11.25)"
      ],
      "id": "AdpabqK4t8XA"
    },
    {
      "cell_type": "code",
      "metadata": {
        "id": "IBXcMlL9oYpU",
        "outputId": "3666cc0d-bf6f-4da0-9a82-2539012a83e2",
        "colab": {
          "base_uri": "https://localhost:8080/"
        }
      },
      "source": [
        "n = int(input(\"N크기: \"))\n",
        "plans = input(\"plans: \").split()\n",
        "\n",
        "move = {'U':[-1, 0], 'D':[1,0], 'L':[0, -1], 'R':[0, 1]}\n",
        "loc = [1,1]\n",
        "\n",
        "for m in plans:\n",
        "  if (0 < (move[m][0] + loc[0]) <= n) and (0 < (move[m][1] + loc[1]) <= n):\n",
        "    loc[0] += move[m][0]\n",
        "    loc[1] += move[m][1]\n",
        "  else:\n",
        "    pass\n",
        "\n",
        "print(f'({loc[0]}, {loc[1]})')\n"
      ],
      "id": "IBXcMlL9oYpU",
      "execution_count": 16,
      "outputs": [
        {
          "output_type": "stream",
          "name": "stdout",
          "text": [
            "N크기: 3\n",
            "plans: R R R R D D D D L\n",
            "(3, 2)\n"
          ]
        }
      ]
    },
    {
      "cell_type": "markdown",
      "metadata": {
        "id": "354897bf"
      },
      "source": [
        "#### 내 해답(과거)"
      ],
      "id": "354897bf"
    },
    {
      "cell_type": "code",
      "metadata": {
        "id": "0450d79e",
        "outputId": "be6416ab-c3e2-4168-ce07-2466110c93de"
      },
      "source": [
        "n = int(input(\"N크기: \"))\n",
        "x, y = 1, 1\n",
        "plans = input(\"plans: \").split()\n",
        "\n",
        "#U, D, L, R 에 따른 움직임\n",
        "dx = [-1,1,0,0]\n",
        "dy = [0,0,-1,1]\n",
        "move_types = [\"U\",\"D\",\"L\",\"R\"]\n",
        "\n",
        "#이동 계획 하나씩 확인하기\n",
        "for plan in plans:\n",
        "    for i in range(len(move_types)):\n",
        "        if plan == move_types[i]:\n",
        "            if x+dx[i]<1 or y+dy[i]<1 or x+dx[i]>n or y+dy[i]>n:\n",
        "                continue\n",
        "            x += dx[i]\n",
        "            y += dy[i]\n",
        "        #공간을 벗어나는 경우에 무시하기\n",
        "\n",
        "        #x,y = nx,ny\n",
        "\n",
        "print(x,y)\n",
        "        "
      ],
      "id": "0450d79e",
      "execution_count": null,
      "outputs": [
        {
          "name": "stdout",
          "output_type": "stream",
          "text": [
            "N크기: 5\n",
            "plans: R R R U D D\n",
            "3 4\n"
          ]
        }
      ]
    },
    {
      "cell_type": "code",
      "metadata": {
        "id": "59801aa8",
        "outputId": "66a21fa6-6f51-4331-cb5e-ac35b4c7525a"
      },
      "source": [
        "n = int(input(\"N크기: \"))\n",
        "x, y = 1, 1\n",
        "plans = input(\"plans: \").split()\n",
        "\n",
        "#U, D, L, R 에 따른 움직임\n",
        "dx = [-1,1,0,0]\n",
        "dy = [0,0,-1,1]\n",
        "move_types = [\"U\",\"D\",\"L\",\"R\"]\n",
        "\n",
        "#이동 계획 하나씩 확인하기\n",
        "for plan in plans:\n",
        "    nx, ny = 0, 0\n",
        "    for i in range(len(move_types)):\n",
        "        if plan == move_types[i]:\n",
        "            nx = x + dx[i]\n",
        "            ny = y + dy[i]\n",
        "        #공간을 벗어나는 경우에 무시하기\n",
        "        if nx<1 or ny<1 or nx>n or ny>n:\n",
        "            continue\n",
        "        x,y = nx,ny\n",
        "\n",
        "print(x,y)"
      ],
      "id": "59801aa8",
      "execution_count": null,
      "outputs": [
        {
          "name": "stdout",
          "output_type": "stream",
          "text": [
            "N크기: 5\n",
            "plans: R R R U D D\n",
            "3 4\n"
          ]
        }
      ]
    },
    {
      "cell_type": "markdown",
      "metadata": {
        "id": "1f12ac28"
      },
      "source": [
        "## 문제2\n",
        "    정수 N이 입력되면 00시 00분 00초부터 N시 59분 59초까지의 모든 시각 중에서 3이 하나라도 포함되는 모든 경우의 수를 구하는 프로그램을 작성하세요. \n",
        "    예를 들어 1을 입력?\n",
        "    ㄴ> 00시 00분 03초 / 00시 13분 03초"
      ],
      "id": "1f12ac28"
    },
    {
      "cell_type": "markdown",
      "metadata": {
        "id": "17f2df2c"
      },
      "source": [
        "#### 내 해답 (21.11.25)"
      ],
      "id": "17f2df2c"
    },
    {
      "cell_type": "code",
      "metadata": {
        "id": "f5992fd6",
        "outputId": "8d376e67-71cf-42ed-9b1b-13916e8743a0"
      },
      "source": [
        "h = int(input())\n",
        "\n",
        "count = 0\n",
        "for i in range(h+1):\n",
        "    for j in range(60):\n",
        "        for k in range(60):\n",
        "            if '3' in str(i)+str(j)+str(k):\n",
        "                count += 1\n",
        "print(count)"
      ],
      "id": "f5992fd6",
      "execution_count": null,
      "outputs": [
        {
          "name": "stdout",
          "output_type": "stream",
          "text": [
            "5\n",
            "11475\n"
          ]
        }
      ]
    },
    {
      "cell_type": "markdown",
      "metadata": {
        "id": "23208200"
      },
      "source": [
        "## 문제3\n",
        "체스판 8 x 8 좌표 평면이 있다. 나이트는 말을 타고 있기 때문에 이동할 때는 L자 형태로만 이동할 수 있으며, 정원 밖으로는 나갈 수 없다. 나이트 이동: 수평2 + 수직1 or 수직2 + 수평1.\n",
        "        \n",
        "위치 좌표를 input, 이동할 수 있는 경우의 수는?\n",
        "   "
      ],
      "id": "23208200"
    },
    {
      "cell_type": "markdown",
      "metadata": {
        "id": "FE4sDf293VYy"
      },
      "source": [
        "#### 내 해답 (21.11.25)"
      ],
      "id": "FE4sDf293VYy"
    },
    {
      "cell_type": "code",
      "metadata": {
        "id": "J-YjjnW313vs",
        "outputId": "d42059d7-5d6a-469b-d475-e344e365ed55",
        "colab": {
          "base_uri": "https://localhost:8080/"
        }
      },
      "source": [
        "loca = input()\n",
        "dic = ['a', 'b', 'c', 'd', 'e', 'f', 'g', 'h']\n",
        "x = dic.index(loca[0]) + 1\n",
        "y = int(loca[1])\n",
        "\n",
        "# RRD RRU LLD LLU DDR DDL UUR UUL\n",
        "move_x = [2, 2, -2, -2, 1, -1, 1, -1]\n",
        "move_y = [1, -1, 1, -1, 2, 2, -2, -2]\n",
        "\n",
        "ans = 0\n",
        "for i in range(len(move_x)):\n",
        "  if (1 <= x+move_x[i] <= 8) and (1 <= y+move_y[i] <= 8):\n",
        "    ans += 1\n",
        "\n",
        "print(ans)\n",
        "    "
      ],
      "id": "J-YjjnW313vs",
      "execution_count": 31,
      "outputs": [
        {
          "output_type": "stream",
          "name": "stdout",
          "text": [
            "c2\n",
            "6\n"
          ]
        }
      ]
    },
    {
      "cell_type": "markdown",
      "metadata": {
        "id": "1795bf26"
      },
      "source": [
        "## 문제4\n",
        "알파벳 대문자와 숫자(0-9)로만 구성된 문자열이 입력으로 주어진다. 모든 알파벳을 오름차숨으로 정렬하여 이어서 출력한 뒤에, 모든 숫자를 더한 값을 이어서 출력하라."
      ],
      "id": "1795bf26"
    },
    {
      "cell_type": "markdown",
      "metadata": {
        "id": "HqI_sWQ85XoE"
      },
      "source": [
        "#### 내 답 (21.11.25)"
      ],
      "id": "HqI_sWQ85XoE"
    },
    {
      "cell_type": "code",
      "metadata": {
        "id": "Dp6gtFUw3myo",
        "outputId": "62582a26-0a02-478a-afde-07912837241c",
        "colab": {
          "base_uri": "https://localhost:8080/"
        }
      },
      "source": [
        "data = input()\n",
        "string = []\n",
        "number = 0\n",
        "for letter in data:\n",
        "  try:\n",
        "    number += int(letter)\n",
        "  except:\n",
        "    string.append(letter)\n",
        "\n",
        "if number > 0:\n",
        "  print(''.join(sorted(string)) + str(number))\n",
        "else:\n",
        "  print(''.join(sorted(string)))"
      ],
      "id": "Dp6gtFUw3myo",
      "execution_count": 46,
      "outputs": [
        {
          "output_type": "stream",
          "name": "stdout",
          "text": [
            "ASGE\n",
            "AEGS\n"
          ]
        }
      ]
    },
    {
      "cell_type": "markdown",
      "metadata": {
        "id": "jnMbaMwE5aGH"
      },
      "source": [
        "#### 해설"
      ],
      "id": "jnMbaMwE5aGH"
    },
    {
      "cell_type": "code",
      "metadata": {
        "id": "a9a3aac1",
        "outputId": "28901a7d-edfa-4a6c-8c25-109228970b6b"
      },
      "source": [
        "data = input(\"문자열: \")\n",
        "string_list = []\n",
        "num = 0\n",
        "\n",
        "for i in range(len(data)):\n",
        "    if data[i].isnumeric():\n",
        "        num += int(data[i])\n",
        "    else:\n",
        "        string_list.append(data[i])\n",
        "\n",
        "string_list.sort()\n",
        "if num>0:\n",
        "  string_list.append(str(num))\n",
        "\n",
        "#최종 결과 출력(리스트를 문자열로 변환하여 공백 없이 출력)\n",
        "print(''.join(string_list))"
      ],
      "id": "a9a3aac1",
      "execution_count": null,
      "outputs": [
        {
          "name": "stdout",
          "output_type": "stream",
          "text": [
            "문자열: t44f6dsa\n",
            "adfst14\n"
          ]
        }
      ]
    }
  ]
}