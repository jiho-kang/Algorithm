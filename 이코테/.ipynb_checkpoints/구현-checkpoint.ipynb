{
 "cells": [
  {
   "cell_type": "markdown",
   "id": "54f1ca67",
   "metadata": {},
   "source": [
    "# 구현: 시뮬레이션과 완전 탐색"
   ]
  },
  {
   "cell_type": "markdown",
   "id": "e6ec08e8",
   "metadata": {},
   "source": [
    "##### 구현: 머릿속에 있는 알고리즘을 소스코드로 바꾸는 과정\n",
    "##### 완전탐색: 가능한 모든 경우의 수를 탐색하는 것\n",
    "풀이를 떠올리는 것은 쉽지만 소스코드로 옮기기 어려운 문제\n",
    "    \n",
    "    알고리즘은 간단한데 코드가 지나칠 만큼 길어지거나,\n",
    "    실수 연산을 다루고, 특정 소수점 자리까지 출력\n",
    "    문자열을 특정한 기준에 따라 끊어 처리\n",
    "    적절한 라이브러리를 찾아서 사용해야 하는 문제 (순열, 조합)"
   ]
  },
  {
   "cell_type": "markdown",
   "id": "8040c5d0",
   "metadata": {},
   "source": [
    "일반적으로 알고리즘 문제에서의 2차원 공간은 행렬의 의미로 사용됨\n",
    "\n",
    "시뮬레이션 및 완전 탐색 문제에서는 2차원 공간에서의 방향 벡터가 사용됨"
   ]
  },
  {
   "cell_type": "markdown",
   "id": "1b4126f3",
   "metadata": {},
   "source": [
    "## 문제1\n",
    "    여행가 A는 N x N 크기의 정사각형 공간 위에 서 있다. 이 공간은 1 X 1 크기의 정사각형으로 나누어져 있다.\n",
    "    가장 왼쪽 위에서 시작하며 좌표는 (1,1), 가장 오른쪽 아래 좌표는 (N,N)이다.\n",
    "    움직임은 상:U, 하:D, 좌:L, 우:R 로 이동할 수 있다.\n",
    "    이때 N x N 크기의 정사각형 공간을 벗어나는 움직임은 무시된다.\n",
    "    예를 들어 (1,)의 위치에서 L 혹은 U를 만나면 무시된다.\n",
    "    공간의 크기 N과 이동 계획이 주어질 때, 도착 지점의 좌표 (X,Y)를 공백을 기준으로 구분해서 출력하여라"
   ]
  },
  {
   "cell_type": "markdown",
   "id": "354897bf",
   "metadata": {},
   "source": [
    "#### 내 문제"
   ]
  },
  {
   "cell_type": "code",
   "execution_count": 13,
   "id": "0450d79e",
   "metadata": {},
   "outputs": [
    {
     "name": "stdout",
     "output_type": "stream",
     "text": [
      "N크기: 5\n",
      "plans: R R R U D D\n",
      "3 4\n"
     ]
    }
   ],
   "source": [
    "n = int(input(\"N크기: \"))\n",
    "x, y = 1, 1\n",
    "plans = input(\"plans: \").split()\n",
    "\n",
    "#U, D, L, R 에 따른 움직임\n",
    "dx = [-1,1,0,0]\n",
    "dy = [0,0,-1,1]\n",
    "move_types = [\"U\",\"D\",\"L\",\"R\"]\n",
    "\n",
    "#이동 계획 하나씩 확인하기\n",
    "for plan in plans:\n",
    "    for i in range(len(move_types)):\n",
    "        if plan == move_types[i]:\n",
    "            if x+dx[i]<1 or y+dy[i]<1 or x+dx[i]>n or y+dy[i]>n:\n",
    "                continue\n",
    "            x += dx[i]\n",
    "            y += dy[i]\n",
    "        #공간을 벗어나는 경우에 무시하기\n",
    "\n",
    "        #x,y = nx,ny\n",
    "\n",
    "print(x,y)\n",
    "        "
   ]
  },
  {
   "cell_type": "code",
   "execution_count": 8,
   "id": "59801aa8",
   "metadata": {},
   "outputs": [
    {
     "name": "stdout",
     "output_type": "stream",
     "text": [
      "N크기: 5\n",
      "plans: R R R U D D\n",
      "3 4\n"
     ]
    }
   ],
   "source": [
    "n = int(input(\"N크기: \"))\n",
    "x, y = 1, 1\n",
    "plans = input(\"plans: \").split()\n",
    "\n",
    "#U, D, L, R 에 따른 움직임\n",
    "dx = [-1,1,0,0]\n",
    "dy = [0,0,-1,1]\n",
    "move_types = [\"U\",\"D\",\"L\",\"R\"]\n",
    "\n",
    "#이동 계획 하나씩 확인하기\n",
    "for plan in plans:\n",
    "    nx, ny = 0, 0\n",
    "    for i in range(len(move_types)):\n",
    "        if plan == move_types[i]:\n",
    "            nx = x + dx[i]\n",
    "            ny = y + dy[i]\n",
    "        #공간을 벗어나는 경우에 무시하기\n",
    "        if nx<1 or ny<1 or nx>n or ny>n:\n",
    "            continue\n",
    "        x,y = nx,ny\n",
    "\n",
    "print(x,y)"
   ]
  },
  {
   "cell_type": "markdown",
   "id": "1f12ac28",
   "metadata": {},
   "source": [
    "## 문제2\n",
    "    정수 N이 입력되면 00시 00분 00초부터 N시 59분 59초까지의 모든 시각 중에서 3이 하나라도 포함되는 모든 경우의 수를 구하는 프로그램을 작성하세요. \n",
    "    예를 들어 1을 입력?\n",
    "    ㄴ> 00시 00분 03초 / 00시 13분 03초"
   ]
  },
  {
   "cell_type": "markdown",
   "id": "17f2df2c",
   "metadata": {},
   "source": [
    "#### 내 답"
   ]
  },
  {
   "cell_type": "code",
   "execution_count": 11,
   "id": "da845630",
   "metadata": {},
   "outputs": [
    {
     "name": "stdout",
     "output_type": "stream",
     "text": [
      "N: 5\n",
      "15\n",
      "75\n"
     ]
    }
   ],
   "source": [
    "00분 00초에 들어갈 모든 경우의 수를 구하고\n",
    "N=3,13 일 경우와 그렇지 않은 경우로 나누어서 구하기"
   ]
  },
  {
   "cell_type": "markdown",
   "id": "d51f64b8",
   "metadata": {},
   "source": [
    "#### 해설"
   ]
  },
  {
   "cell_type": "code",
   "execution_count": 12,
   "id": "f5992fd6",
   "metadata": {},
   "outputs": [
    {
     "name": "stdout",
     "output_type": "stream",
     "text": [
      "5\n",
      "11475\n"
     ]
    }
   ],
   "source": [
    "h = int(input())\n",
    "\n",
    "count = 0\n",
    "for i in range(h+1):\n",
    "    for j in range(60):\n",
    "        for k in range(60):\n",
    "            if '3' in str(i)+str(j)+str(k):\n",
    "                count += 1\n",
    "print(count)"
   ]
  },
  {
   "cell_type": "markdown",
   "id": "23208200",
   "metadata": {},
   "source": [
    "## 문제3\n",
    "체스판 8 x 8 좌표 평면이 있다. 나이트는 말을 타고 있기 때문에 이동할 때는 L자 형태로만 이동할 수 있으며, 정원 밖으로는 나갈 수 없다. 나이트 이동: 수평2 + 수직1 or 수직2 + 수평1.\n",
    "        \n",
    "위치 좌표를 input, 이동할 수 있는 경우의 수는?\n",
    "   "
   ]
  },
  {
   "cell_type": "code",
   "execution_count": 40,
   "id": "512cb1ba",
   "metadata": {},
   "outputs": [
    {
     "name": "stdout",
     "output_type": "stream",
     "text": [
      "위치: a1\n",
      "2\n"
     ]
    }
   ],
   "source": [
    "loca = input(\"위치: \")\n",
    "x_index = loca[0]\n",
    "letter = ['a','b','c','d','e','f','g','h']\n",
    "x = letter.index(x_index) + 1\n",
    "y = int(loca[1])\n",
    "\n",
    "#우우위, 우우하, 좌좌위, 좌좌하, 우위위, 우하하, 좌위위, 좌하하\n",
    "x_array=[-1,1,-1,1,-2,2,-2,2]\n",
    "y_array=[2,2,-2,-2,1,1,-1,-1]\n",
    "\n",
    "count = 0\n",
    "for i in range(len(x_array)):\n",
    "    nx, ny = 0, 0\n",
    "    nx = x + x_array[i]\n",
    "    ny = y + y_array[i]\n",
    "    if nx<1 or ny<1 or nx>len(letter) or ny>len(letter):\n",
    "        continue\n",
    "    count +=1\n",
    "print(count)"
   ]
  },
  {
   "cell_type": "markdown",
   "id": "935606f8",
   "metadata": {},
   "source": [
    "#### 해설"
   ]
  },
  {
   "cell_type": "code",
   "execution_count": 36,
   "id": "f9d037aa",
   "metadata": {
    "scrolled": true
   },
   "outputs": [
    {
     "name": "stdout",
     "output_type": "stream",
     "text": [
      "a1\n",
      "2\n"
     ]
    }
   ],
   "source": [
    "input_data = input()\n",
    "row = int(input_data[1])\n",
    "column = int(ord(input_data[0])) - int(ord('a')) + 1\n",
    "\n",
    "#나이트가 이동할 수 있는 8가지 방향 정의\n",
    "steps = [(-1,2),(1,2),(-1,-2),(1,-2),(-2,1),(2,1),(-2,-1),(2,-1)]\n",
    "\n",
    "#8가지 방향에 대하여 각 위치로 이동이 가능한지 확인\n",
    "count = 0\n",
    "for step in steps:\n",
    "    next_row = row + step[0]\n",
    "    next_column = column + step[1]\n",
    "    if next_row >=1 and next_row<=8 and next_column>=1 and next_column <=8:\n",
    "        count += 1\n",
    "print(count)"
   ]
  },
  {
   "cell_type": "markdown",
   "id": "1795bf26",
   "metadata": {},
   "source": [
    "## 문제4\n",
    "알파벳 대문자와 숫자(0-9)로만 구성된 문자열이 입력으로 주어진다. 모든 알파벳을 오름차숨으로 정렬하여 이어서 출력한 뒤에, 모든 숫자를 더한 값을 이어서 출력하라."
   ]
  },
  {
   "cell_type": "code",
   "execution_count": 52,
   "id": "a9a3aac1",
   "metadata": {},
   "outputs": [
    {
     "name": "stdout",
     "output_type": "stream",
     "text": [
      "문자열: t44f6dsa\n",
      "adfst14\n"
     ]
    }
   ],
   "source": [
    "data = input(\"문자열: \")\n",
    "string_list = []\n",
    "num = 0\n",
    "\n",
    "for i in range(len(data)):\n",
    "    if data[i].isnumeric():\n",
    "        num += int(data[i])\n",
    "    else:\n",
    "        string_list.append(data[i])\n",
    "\n",
    "string_list.sort()\n",
    "if num>0: string_list.append(str(num))\n",
    "\n",
    "#최종 결과 출력(리스트를 문자열로 변환하여 공백 없이 출력)\n",
    "print(''.join(string_list))"
   ]
  },
  {
   "cell_type": "code",
   "execution_count": null,
   "id": "9cf53459",
   "metadata": {},
   "outputs": [],
   "source": []
  }
 ],
 "metadata": {
  "jupytext": {
   "formats": "ipynb,auto:light"
  },
  "kernelspec": {
   "display_name": "Python 3",
   "language": "python",
   "name": "python3"
  },
  "language_info": {
   "codemirror_mode": {
    "name": "ipython",
    "version": 3
   },
   "file_extension": ".py",
   "mimetype": "text/x-python",
   "name": "python",
   "nbconvert_exporter": "python",
   "pygments_lexer": "ipython3",
   "version": "3.8.8"
  }
 },
 "nbformat": 4,
 "nbformat_minor": 5
}
