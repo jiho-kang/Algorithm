{
  "nbformat": 4,
  "nbformat_minor": 0,
  "metadata": {
    "colab": {
      "name": "DFS_BFS.ipynb",
      "provenance": [],
      "collapsed_sections": [],
      "include_colab_link": true
    },
    "kernelspec": {
      "name": "python3",
      "display_name": "Python 3"
    },
    "language_info": {
      "name": "python"
    }
  },
  "cells": [
    {
      "cell_type": "markdown",
      "metadata": {
        "id": "view-in-github",
        "colab_type": "text"
      },
      "source": [
        "<a href=\"https://colab.research.google.com/github/jiho-kang/Algorithm/blob/master/%EC%9D%B4%EC%BD%94%ED%85%8C/%EC%A0%95%EB%A0%AC.ipynb\" target=\"_parent\"><img src=\"https://colab.research.google.com/assets/colab-badge.svg\" alt=\"Open In Colab\"/></a>"
      ]
    },
    {
      "cell_type": "markdown",
      "metadata": {
        "id": "vpW2CX5zdZyE"
      },
      "source": [
        "# 삽입 정렬\n",
        "- 앞의 데이터가 정렬되어있다는 가정 하에, 들어오는 데이터들을 적절한 위치에 삽입\n",
        "- 선택 정렬에 비해 난이도는 높으나 더 효율적으로 동작한다.\n",
        "\n",
        "- 시간복잡도: O(N^2) | 최선: O(N)\n",
        "    \n",
        "  - N-1번 만큼 앞의 수들과 비교해야 한다.\n",
        "  - 평균적으로 선택 정렬보다 조금 더 빠르며, 이미 정렬되어 있는 상태에서 삽입 정렬을 수행하면 O(N)이다.\n",
        "  - N + (N-1) + (N-2) + ... + 2\n",
        "\n",
        "- 공간복잡도: O(N)\n",
        "\n",
        "```python\n",
        "lst = [7,1,5,2,6,8,1,0]\n",
        "for i in range(1, len(lst)):\n",
        "  for j in range(i, 0, -1):\n",
        "    if lst[j-1] > lst[j]:\n",
        "      lst[j-1], lst[j] = lst[j], lst[j-1]\n",
        "    else:\n",
        "      break\n",
        "\n",
        "print(lst)\n",
        "\n",
        "```\n",
        "\n"
      ]
    },
    {
      "cell_type": "markdown",
      "metadata": {
        "id": "2IBO2OHwUdCC"
      },
      "source": [
        "# 선택 정렬\n",
        "- 가장 작은 값을 선택해 맨 앞에 있는 데이터와 바꾸는 것을 반복\n",
        "\n",
        "- 시간복잡도: O(N^2)\n",
        "  - N번 만큼 가장 작은 수를 찾아서 맨 앞으로 보내야 한다.\n",
        "  - N + (N-1) + (N-2) + ... + 2\n",
        "- 공간복잡도: O(N)\n",
        "\n",
        "```python\n",
        "lst = [7,1,5,2,6,8,1,0]\n",
        "for i in range(len(lst)):\n",
        "  min_idx = i\n",
        "  for j in range(i+1, len(lst)):\n",
        "    if lst[min_idx] > lst[j]:\n",
        "      min_idx = j\n",
        "  lst[i], lst[min_idx] = lst[min_idx], lst[i] # 스와프\n",
        "\n",
        "print(lst) # [0, 1, 1, 2, 5, 6, 7, 8]\n",
        "\n",
        "```\n",
        "\n"
      ]
    },
    {
      "cell_type": "markdown",
      "metadata": {
        "id": "54f1ca67"
      },
      "source": [
        "# 퀵 정렬\n",
        "1. pivot 값을 임의로 설정, pivot보다 큰 값을 오른쪽, 작은 값을 왼쪽으로 나눔.\n",
        "2. pivot 기준 좌측 array_left와 우측 array_right를 1번처럼 다시 나눔.\n",
        "3. 1~2번을 재귀적으로 반복하여 정렬\n",
        "- 시간복잡도: O(NlogN) | 최악: O(N^2)\n",
        "  - [0,1,2,3,4,5] 중 첫 번째 원소를 피벗으로 삼을 때. 즉, 이미 정렬된 배열의 경우 최악의 시간복잡도.\n",
        "  - 대부분의 경우에 가장 적합하며, 충분히 빠르다.\n",
        "- 공간복잡도: O(N)\n",
        "\n",
        "```python\n",
        "def quick_sort(lst):\n",
        "    array_len = len(lst)\n",
        "    if( array_len <= 1): # lst 길이가 1이면 그냥 반환\n",
        "        return lst\n",
        "    else:\n",
        "        pivot = lst[0] # pivot은 임의로 설정한 것임\n",
        "        bigger = [ element for element in lst[1:] if element > pivot ]\n",
        "        lesser = [ element for element in lst[1:] if element <= pivot ]\n",
        "        return quick_sort(lesser) + [pivot] + quick_sort(bigger)\n",
        "\n",
        "lst = [54,26,93,17,77,31,44,55,20]\n",
        "print(quick_sort(lst)) # [17, 20, 26, 31, 44, 54, 55, 77, 93]\n",
        "\n",
        "```\n",
        "\n"
      ]
    },
    {
      "cell_type": "markdown",
      "metadata": {
        "id": "FD_dCIifmNZy"
      },
      "source": [
        "# 계수 정렬\n",
        "- 특정한 조건이 부합할 때만 사용 가능하며 매우 빠르다.\n",
        "  - ex) 데이터 크기의 범위가 제한되어 정수 형태로 표현할 수 있을 때.\n",
        "  \n",
        "    데이터 개수가 N, 데이터 중 최댓값이 K 일 때, 최악의 경우에도 수행시간 O(N+K)를 보장.\n",
        "\n",
        "- 각각의 데이터가 몇 번씩 등장했는지 count하는 방식으로 동작\n",
        "- 시간복잡도, 공간복잡도: O(N+K)\n",
        "\n",
        "  - 가장 작은 크기의 데이터부터 가장 큰 데이터까지 모두 담을 수 있는 범위의 배열을 만들어야 하기 때문에 상대적으로 공간복잡도는 높지만, 조건만 만족한다면 빠르게 동작함.\n",
        "  - 데이터가 0, 99999 단 2개만 존재하는 경우 비효율\n",
        "  - 동일한 값을 가지는 데이터가 여러 개 등장할 때 효과적\n",
        "  - 성적 확인의 경우 효율적\n",
        "  \n",
        "```python\n",
        "lst = [8,8,2,5,3,7,5,2,8,3,6,8,9]\n",
        "cnt = [0]*(max(lst)+1)\n",
        "ans = []\n",
        "\n",
        "for i in lst:\n",
        "  cnt[i] += 1\n",
        "for i, num in enumerate(cnt):\n",
        "  add = [i] * num\n",
        "  ans.extend(add)\n",
        "\n",
        "print(ans) # [2, 2, 3, 3, 5, 5, 6, 7, 8, 8, 8, 8, 9]\n",
        "\n",
        "```\n"
      ]
    }
  ]
}