{
 "cells": [
  {
   "cell_type": "markdown",
   "id": "b690aba7",
   "metadata": {},
   "source": [
    "https://www.youtube.com/watch?v=2zjoKjt97vQ&list=PLRx0vPvlEmdAghTr5mXQxGpHjWqSz0dgC&index=2&t=1630s\n"
   ]
  },
  {
   "cell_type": "markdown",
   "id": "4eaeb8e3",
   "metadata": {},
   "source": [
    "## 문제1\n",
    "    거스름돈 500, 100, 50, 10원 동전이 무한히 존재\n",
    "    거슬러줘야 할 돈이 N원일 때, 최소 동전의 개수"
   ]
  },
  {
   "cell_type": "markdown",
   "id": "aebb82bb",
   "metadata": {},
   "source": [
    "#### 해설"
   ]
  },
  {
   "cell_type": "code",
   "execution_count": 38,
   "id": "b8264a55",
   "metadata": {},
   "outputs": [
    {
     "name": "stdout",
     "output_type": "stream",
     "text": [
      "거스름 돈 (10의 배수여야 함): 2300\n",
      "7\n"
     ]
    }
   ],
   "source": [
    "n = int(input(\"거스름 돈 (10의 배수여야 함): \"))\n",
    "count = 0\n",
    "\n",
    "array = [500, 100, 50, 10]\n",
    "\n",
    "for coin in array:\n",
    "    count += n//coin\n",
    "    n %= coin\n",
    "print(count)"
   ]
  },
  {
   "cell_type": "markdown",
   "id": "e4b9d9be",
   "metadata": {},
   "source": [
    "## 문제2\n",
    "    어떠한 수 N이 1이 될 때까지 [(1)N에서 1을 뺀다 (2)N을 K로 나눈다]를 반복적으로 선택하여 수행.\n",
    "    자연수 N과 K가 주어질 때, N이 1이 될 때까지 (1),(2)번을 수행하는 최소 횟수"
   ]
  },
  {
   "cell_type": "markdown",
   "id": "93e0dcb1",
   "metadata": {},
   "source": [
    "#### 내 답"
   ]
  },
  {
   "cell_type": "code",
   "execution_count": 6,
   "id": "0dc6ac5a",
   "metadata": {},
   "outputs": [
    {
     "name": "stdout",
     "output_type": "stream",
     "text": [
      "N: 50\n",
      "K: 5\n",
      "3\n"
     ]
    }
   ],
   "source": [
    "N = int(input(\"N: \"))\n",
    "K = int(input(\"K: \"))\n",
    "count = 0\n",
    "\n",
    "while N != 1:\n",
    "    if N % K == 0:\n",
    "        N //= K\n",
    "    else:\n",
    "        N -= 1\n",
    "    count += 1\n",
    "        \n",
    "print(count)"
   ]
  },
  {
   "cell_type": "markdown",
   "id": "d99bf9a3",
   "metadata": {},
   "source": [
    "#### 해설"
   ]
  },
  {
   "cell_type": "code",
   "execution_count": 7,
   "id": "80c33011",
   "metadata": {},
   "outputs": [
    {
     "name": "stdout",
     "output_type": "stream",
     "text": [
      "20 3\n",
      "5\n"
     ]
    }
   ],
   "source": [
    "N, K = map(int, input().split())\n",
    "count = 0\n",
    "\n",
    "while N != 1:\n",
    "    if N % K == 0:\n",
    "        N //= K\n",
    "    else:\n",
    "        N -= 1\n",
    "    count += 1\n",
    "        \n",
    "print(count)"
   ]
  },
  {
   "cell_type": "markdown",
   "id": "81f13fc0",
   "metadata": {},
   "source": [
    "## 문제3\n",
    "    각 자리가 숫자 0부터 9로만 이루어진 문자열S가 주어졌을 때, 왼쪽부터 오른쪽으로 하나씩 모든 숫자를 확인하며\n",
    "    숫자 사이에 X 혹은 + 연산자를 넣어 결과적으로 만들어질 수 있는 가장 큰 수를 구하라\n",
    "    모든 연산은 왼쪽부터 이루어짐"
   ]
  },
  {
   "cell_type": "markdown",
   "id": "54695190",
   "metadata": {},
   "source": [
    "#### 내 답"
   ]
  },
  {
   "cell_type": "code",
   "execution_count": 36,
   "id": "cf8d0e22",
   "metadata": {
    "scrolled": true
   },
   "outputs": [
    {
     "name": "stdout",
     "output_type": "stream",
     "text": [
      "수: 01234\n",
      "36\n"
     ]
    }
   ],
   "source": [
    "n = input(\"수: \")\n",
    "result = int(n[0])\n",
    "for i in range(len(n)-1):\n",
    "    if int(n[i+1]) <= 1 or result <=1:\n",
    "        result += int(n[i+1])\n",
    "    else:\n",
    "        result *= int(n[i+1])\n",
    "        \n",
    "print(result)"
   ]
  },
  {
   "cell_type": "markdown",
   "id": "4633c9c1",
   "metadata": {},
   "source": [
    "#### 해설"
   ]
  },
  {
   "cell_type": "code",
   "execution_count": 37,
   "id": "7cf70c11",
   "metadata": {},
   "outputs": [
    {
     "name": "stdout",
     "output_type": "stream",
     "text": [
      "01234\n",
      "36\n"
     ]
    }
   ],
   "source": [
    "n = input()\n",
    "result = int(n[0])\n",
    "\n",
    "for i in range(1,len(n)):\n",
    "    num = int(n[i])\n",
    "    if num <= 1 or result <= 1:\n",
    "        result += num\n",
    "    else:\n",
    "        result *= num\n",
    "print(result)"
   ]
  },
  {
   "cell_type": "markdown",
   "id": "1c97c4ea",
   "metadata": {},
   "source": [
    "## 문제4\n",
    "    모험가 N명의 '공포도'를 측정. 대처능력과 반비례\n",
    "    공포도가 X인 모험가는 반드시 X명 이상으로 구성한 모험가 그룹에 참여\n",
    "    N명의 모험가의 공포도가 주어질 때, 최대 몇 개의 모험가 그룹을 만들 수 있는가? 여행을 떠날 수 있는 그룹 수의 최댓값"
   ]
  },
  {
   "cell_type": "markdown",
   "id": "aef93d73",
   "metadata": {},
   "source": [
    "#### 내 답"
   ]
  },
  {
   "cell_type": "code",
   "execution_count": 57,
   "id": "8a0cb165",
   "metadata": {},
   "outputs": [
    {
     "name": "stdout",
     "output_type": "stream",
     "text": [
      "모험가 수: 5\n",
      "공포도: 1 2 3 2 2\n"
     ]
    },
    {
     "ename": "KeyboardInterrupt",
     "evalue": "",
     "output_type": "error",
     "traceback": [
      "\u001b[1;31m---------------------------------------------------------------------------\u001b[0m",
      "\u001b[1;31mKeyboardInterrupt\u001b[0m                         Traceback (most recent call last)",
      "\u001b[1;32m<ipython-input-57-360aaa7d70b9>\u001b[0m in \u001b[0;36m<module>\u001b[1;34m\u001b[0m\n\u001b[0;32m      5\u001b[0m \u001b[0mcount\u001b[0m \u001b[1;33m=\u001b[0m \u001b[1;36m0\u001b[0m\u001b[1;33m\u001b[0m\u001b[1;33m\u001b[0m\u001b[0m\n\u001b[0;32m      6\u001b[0m \u001b[1;32mwhile\u001b[0m \u001b[1;32mTrue\u001b[0m\u001b[1;33m:\u001b[0m\u001b[1;33m\u001b[0m\u001b[1;33m\u001b[0m\u001b[0m\n\u001b[1;32m----> 7\u001b[1;33m     \u001b[0mx\u001b[0m \u001b[1;33m=\u001b[0m \u001b[0mk\u001b[0m\u001b[1;33m[\u001b[0m\u001b[1;36m0\u001b[0m\u001b[1;33m]\u001b[0m\u001b[1;33m\u001b[0m\u001b[1;33m\u001b[0m\u001b[0m\n\u001b[0m\u001b[0;32m      8\u001b[0m     \u001b[1;32mif\u001b[0m \u001b[0mx\u001b[0m \u001b[1;33m>\u001b[0m \u001b[0mlen\u001b[0m\u001b[1;33m(\u001b[0m\u001b[0mk\u001b[0m\u001b[1;33m)\u001b[0m\u001b[1;33m:\u001b[0m\u001b[1;33m\u001b[0m\u001b[1;33m\u001b[0m\u001b[0m\n\u001b[0;32m      9\u001b[0m         \u001b[1;32mbreak\u001b[0m\u001b[1;33m\u001b[0m\u001b[1;33m\u001b[0m\u001b[0m\n",
      "\u001b[1;31mKeyboardInterrupt\u001b[0m: "
     ]
    }
   ],
   "source": [
    "n = input(\"모험가 수: \")\n",
    "k = list(map(int,input(\"공포도: \").split()))\n",
    "k.sort()\n",
    "\n",
    "count = 0\n",
    "while True:\n",
    "    x = k[0]\n",
    "    if x > len(k):\n",
    "        break\n",
    "    k = k[:x]\n",
    "    count += 1 \n",
    "print(count)"
   ]
  },
  {
   "cell_type": "markdown",
   "id": "1e421ef0",
   "metadata": {},
   "source": [
    "#### 해설"
   ]
  },
  {
   "cell_type": "code",
   "execution_count": null,
   "id": "7f546498",
   "metadata": {},
   "outputs": [],
   "source": [
    "n = input(\"모험가 수: \")\n",
    "k = list(map(int,input(\"공포도: \").split()))\n",
    "k.sort()\n",
    "\n",
    "result = 0 #총 그룹의 수\n",
    "count = 0 #현재 그룹에 포함된 모험가의 수 \n",
    "\n",
    "for i in k: #공포도가 낮은 것부터 확인하며\n",
    "    count += 1 #현재 그룹에 해당 모험가를 포함시키기\n",
    "    if count >= i: #현재 그룹에 포함된 모험가의 수가 현재 공포도 이상이라면\n",
    "        result += 1 #그룹 결성\n",
    "        count = 0 #현재 그룹 모험가 수 초기화\n",
    "print(result)"
   ]
  },
  {
   "cell_type": "code",
   "execution_count": null,
   "id": "79a04f12",
   "metadata": {},
   "outputs": [],
   "source": []
  }
 ],
 "metadata": {
  "jupytext": {
   "formats": "ipynb,auto:light"
  },
  "kernelspec": {
   "display_name": "Python 3",
   "language": "python",
   "name": "python3"
  },
  "language_info": {
   "codemirror_mode": {
    "name": "ipython",
    "version": 3
   },
   "file_extension": ".py",
   "mimetype": "text/x-python",
   "name": "python",
   "nbconvert_exporter": "python",
   "pygments_lexer": "ipython3",
   "version": "3.8.8"
  }
 },
 "nbformat": 4,
 "nbformat_minor": 5
}
