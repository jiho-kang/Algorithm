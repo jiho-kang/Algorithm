{
  "nbformat": 4,
  "nbformat_minor": 5,
  "metadata": {
    "jupytext": {
      "encoding": "# -*- coding: utf-8 -*-",
      "formats": "ipynb,py:light"
    },
    "kernelspec": {
      "display_name": "Python 3",
      "language": "python",
      "name": "python3"
    },
    "language_info": {
      "codemirror_mode": {
        "name": "ipython",
        "version": 3
      },
      "file_extension": ".py",
      "mimetype": "text/x-python",
      "name": "python",
      "nbconvert_exporter": "python",
      "pygments_lexer": "ipython3",
      "version": "3.8.8"
    },
    "colab": {
      "name": "그리디.ipynb",
      "provenance": []
    }
  },
  "cells": [
    {
      "cell_type": "markdown",
      "metadata": {
        "id": "b690aba7"
      },
      "source": [
        "https://www.youtube.com/watch?v=2zjoKjt97vQ&list=PLRx0vPvlEmdAghTr5mXQxGpHjWqSz0dgC&index=2&t=1630s\n"
      ],
      "id": "b690aba7"
    },
    {
      "cell_type": "markdown",
      "metadata": {
        "id": "4eaeb8e3"
      },
      "source": [
        "## 문제1\n",
        "    거스름돈 500, 100, 50, 10원 동전이 무한히 존재\n",
        "    거슬러줘야 할 돈이 N원일 때, 최소 동전의 개수"
      ],
      "id": "4eaeb8e3"
    },
    {
      "cell_type": "markdown",
      "metadata": {
        "id": "HrIxB-rDx_XM"
      },
      "source": [
        "#### 내 답"
      ],
      "id": "HrIxB-rDx_XM"
    },
    {
      "cell_type": "code",
      "metadata": {
        "colab": {
          "base_uri": "https://localhost:8080/"
        },
        "id": "D4Xvdbs0x-Ta",
        "outputId": "471f9358-28d5-4bf0-bfec-b079b6b4e2a6"
      },
      "source": [
        "n = int(input('거슬러줘야 할 돈 N원을 입력하세요. (10의 배수여야 함.)'))\n",
        "ls = [500, 100, 50, 10]\n",
        "ans = 0\n",
        "\n",
        "for coin in ls:\n",
        "  ans += n//coin\n",
        "  n %= coin\n",
        "\n",
        "print(ans)"
      ],
      "id": "D4Xvdbs0x-Ta",
      "execution_count": 2,
      "outputs": [
        {
          "output_type": "stream",
          "name": "stdout",
          "text": [
            "거슬러줘야 할 돈 N원을 입력하세요. (10의 배수여야 함.)2540\n",
            "9\n"
          ]
        }
      ]
    },
    {
      "cell_type": "markdown",
      "metadata": {
        "id": "aebb82bb"
      },
      "source": [
        "#### 해설"
      ],
      "id": "aebb82bb"
    },
    {
      "cell_type": "code",
      "metadata": {
        "colab": {
          "base_uri": "https://localhost:8080/"
        },
        "id": "b8264a55",
        "outputId": "cbbf33c3-2d00-4722-9ac2-5dd05f2373b2"
      },
      "source": [
        "n = int(input(\"거스름 돈 (10의 배수여야 함): \"))\n",
        "count = 0\n",
        "\n",
        "array = [500, 100, 50, 10]\n",
        "\n",
        "for coin in array:\n",
        "    count += n//coin\n",
        "    n %= coin\n",
        "print(count)"
      ],
      "id": "b8264a55",
      "execution_count": 1,
      "outputs": [
        {
          "output_type": "stream",
          "name": "stdout",
          "text": [
            "거스름 돈 (10의 배수여야 함): 2540\n",
            "9\n"
          ]
        }
      ]
    },
    {
      "cell_type": "markdown",
      "metadata": {
        "id": "e4b9d9be"
      },
      "source": [
        "## 문제2\n",
        "    어떠한 수 N이 1이 될 때까지\n",
        "    1. N이 K로 나누어 떨어진다면 나눈다.\n",
        "    2. 그렇지 않다면 N에서 1을 뺀다 \n",
        "    를 반복적으로 선택하여 수행.\n",
        "    자연수 N과 K가 주어질 때, N이 1이 될 때까지 (1),(2)번을 수행하는 최소 횟수"
      ],
      "id": "e4b9d9be"
    },
    {
      "cell_type": "markdown",
      "metadata": {
        "id": "93e0dcb1"
      },
      "source": [
        "#### 내 답"
      ],
      "id": "93e0dcb1"
    },
    {
      "cell_type": "code",
      "metadata": {
        "id": "0dc6ac5a",
        "outputId": "72ad16c0-3289-465f-be4f-a85a8b5811c1"
      },
      "source": [
        "N = int(input(\"N: \"))\n",
        "K = int(input(\"K: \"))\n",
        "count = 0\n",
        "\n",
        "while N != 1:\n",
        "    if N % K == 0:\n",
        "        N //= K\n",
        "    else:\n",
        "        N -= 1\n",
        "    count += 1\n",
        "        \n",
        "print(count)"
      ],
      "id": "0dc6ac5a",
      "execution_count": null,
      "outputs": [
        {
          "name": "stdout",
          "output_type": "stream",
          "text": [
            "N: 50\n",
            "K: 5\n",
            "3\n"
          ]
        }
      ]
    },
    {
      "cell_type": "markdown",
      "metadata": {
        "id": "d99bf9a3"
      },
      "source": [
        "#### 해설"
      ],
      "id": "d99bf9a3"
    },
    {
      "cell_type": "code",
      "metadata": {
        "id": "80c33011",
        "outputId": "0a65833a-d961-4423-8c57-0503e3e76350"
      },
      "source": [
        "N, K = map(int, input().split())\n",
        "count = 0\n",
        "\n",
        "while N != 1:\n",
        "    if N % K == 0:\n",
        "        N //= K\n",
        "    else:\n",
        "        N -= 1\n",
        "    count += 1\n",
        "        \n",
        "print(count)"
      ],
      "id": "80c33011",
      "execution_count": null,
      "outputs": [
        {
          "name": "stdout",
          "output_type": "stream",
          "text": [
            "20 3\n",
            "5\n"
          ]
        }
      ]
    },
    {
      "cell_type": "markdown",
      "metadata": {
        "id": "81f13fc0"
      },
      "source": [
        "## 문제3\n",
        "    각 자리가 숫자 0부터 9로만 이루어진 문자열S가 주어졌을 때, 왼쪽부터 오른쪽으로 하나씩 모든 숫자를 확인하며\n",
        "    숫자 사이에 X 혹은 + 연산자를 넣어 결과적으로 만들어질 수 있는 가장 큰 수를 구하라\n",
        "    모든 연산은 왼쪽부터 이루어짐"
      ],
      "id": "81f13fc0"
    },
    {
      "cell_type": "markdown",
      "metadata": {
        "id": "54695190"
      },
      "source": [
        "#### 내 답"
      ],
      "id": "54695190"
    },
    {
      "cell_type": "code",
      "metadata": {
        "scrolled": true,
        "id": "cf8d0e22",
        "outputId": "32104014-e73d-41d2-fdcd-a908b762a8f1"
      },
      "source": [
        "n = input(\"수: \")\n",
        "result = int(n[0])\n",
        "for i in range(len(n)-1):\n",
        "    if int(n[i+1]) <= 1 or result <=1:\n",
        "        result += int(n[i+1])\n",
        "    else:\n",
        "        result *= int(n[i+1])\n",
        "        \n",
        "print(result)"
      ],
      "id": "cf8d0e22",
      "execution_count": null,
      "outputs": [
        {
          "name": "stdout",
          "output_type": "stream",
          "text": [
            "수: 01234\n",
            "36\n"
          ]
        }
      ]
    },
    {
      "cell_type": "markdown",
      "metadata": {
        "id": "4633c9c1"
      },
      "source": [
        "#### 해설"
      ],
      "id": "4633c9c1"
    },
    {
      "cell_type": "code",
      "metadata": {
        "id": "7cf70c11",
        "outputId": "78e1ecc0-f2c1-4b13-b132-2a980e4d5541"
      },
      "source": [
        "n = input()\n",
        "result = int(n[0])\n",
        "\n",
        "for i in range(1,len(n)):\n",
        "    num = int(n[i])\n",
        "    if num <= 1 or result <= 1:\n",
        "        result += num\n",
        "    else:\n",
        "        result *= num\n",
        "print(result)"
      ],
      "id": "7cf70c11",
      "execution_count": null,
      "outputs": [
        {
          "name": "stdout",
          "output_type": "stream",
          "text": [
            "01234\n",
            "36\n"
          ]
        }
      ]
    },
    {
      "cell_type": "markdown",
      "metadata": {
        "id": "1c97c4ea"
      },
      "source": [
        "## 문제4\n",
        "    모험가 N명의 '공포도'를 측정. 대처능력과 반비례\n",
        "    공포도가 X인 모험가는 반드시 X명 이상으로 구성한 모험가 그룹에 참여\n",
        "    N명의 모험가의 공포도가 주어질 때, 최대 몇 개의 모험가 그룹을 만들 수 있는가? 여행을 떠날 수 있는 그룹 수의 최댓값"
      ],
      "id": "1c97c4ea"
    },
    {
      "cell_type": "markdown",
      "metadata": {
        "id": "aef93d73"
      },
      "source": [
        "#### 내 답"
      ],
      "id": "aef93d73"
    },
    {
      "cell_type": "code",
      "metadata": {
        "id": "gV0C5jHpDuMi"
      },
      "source": [
        "# k = list(map(int,input(\"공포도: \").split()))\n",
        "# k.sort(reverse=True)\n",
        "\n",
        "# n = k[-1]\n",
        "# remain = len(k)\n",
        "# ans = 0\n",
        "# while remain >= n:\n",
        "#   ans += 1\n",
        "#   k = k[:-n]\n",
        "#   remain = len(k)\n",
        "#   n = k[-1]\n",
        "  \n",
        "# print(ans)\n",
        "\n",
        "# 응 아니야;;"
      ],
      "id": "gV0C5jHpDuMi",
      "execution_count": 48,
      "outputs": []
    },
    {
      "cell_type": "markdown",
      "metadata": {
        "id": "1e421ef0"
      },
      "source": [
        "#### 해설"
      ],
      "id": "1e421ef0"
    },
    {
      "cell_type": "code",
      "metadata": {
        "colab": {
          "base_uri": "https://localhost:8080/"
        },
        "id": "ptSvd5PsIGCW",
        "outputId": "74f6079f-ea41-433b-86f5-ab1674242b6d"
      },
      "source": [
        "array = sorted(list(map(int, input().split())))\n",
        "\n",
        "\n",
        "result = 0\n",
        "party = 0\n",
        "for i in array:\n",
        "    party += 1\n",
        "    if party >= i:\n",
        "        party = 0\n",
        "        result += 1\n",
        "\n",
        "print(result)"
      ],
      "id": "ptSvd5PsIGCW",
      "execution_count": 47,
      "outputs": [
        {
          "output_type": "stream",
          "name": "stdout",
          "text": [
            "5 5 5 4 4 2 2 2 1 1 3\n",
            "4\n"
          ]
        }
      ]
    },
    {
      "cell_type": "code",
      "metadata": {
        "lines_to_next_cell": 0,
        "colab": {
          "base_uri": "https://localhost:8080/"
        },
        "id": "7f546498",
        "outputId": "20d14e2d-32af-4028-87db-ec9c0435e436"
      },
      "source": [
        "k = list(map(int,input(\"공포도: \").split()))\n",
        "k.sort()\n",
        "\n",
        "result = 0 #총 그룹의 수\n",
        "count = 0 #현재 그룹에 포함된 모험가의 수 \n",
        "\n",
        "for i in k: #공포도가 낮은 것부터 확인하며\n",
        "    count += 1 #현재 그룹에 해당 모험가를 포함시키기\n",
        "    if count >= i: #현재 그룹에 포함된 모험가의 수가 현재 공포도 이상이라면\n",
        "        result += 1 #그룹 결성\n",
        "        count = 0 #현재 그룹 모험가 수 초기화\n",
        "print(result)"
      ],
      "id": "7f546498",
      "execution_count": 45,
      "outputs": [
        {
          "output_type": "stream",
          "name": "stdout",
          "text": [
            "공포도: 5 5 5 4 4 2 2 2 1 1 3\n",
            "4\n"
          ]
        }
      ]
    },
    {
      "cell_type": "markdown",
      "metadata": {
        "id": "06a69a3c"
      },
      "source": [
        "https://covenant.tistory.com/131\n",
        "\n",
        "https://it-college-diary.tistory.com/entry/21-Greedy-Algorithm%ED%83%90%EC%9A%95%EB%B2%95-%EC%9A%95%EC%8B%AC%EC%9F%81%EC%9D%B4-%EC%95%8C%EA%B3%A0%EB%A6%AC%EC%A6%98-%EA%B0%9C%EB%85%90"
      ],
      "id": "06a69a3c"
    },
    {
      "cell_type": "markdown",
      "metadata": {
        "lines_to_next_cell": 2,
        "id": "435458f1"
      },
      "source": [
        "## 문제5 - 백준 11047 동전\n",
        "https://www.acmicpc.net/problem/11047\n",
        "\n",
        "준규가 가지고 있는 동전은 총 N종류이고, 각각의 동전을 매우 많이 가지고 있다.\n",
        "\n",
        "동전을 적절히 사용해서 그 가치의 합을 K로 만들려고 한다. 이때 필요한 동전 개수의 최솟값을 구하는 프로그램을 작성하시오.\n",
        "\n",
        "#### 입력\n",
        "첫째 줄에 N과 K가 주어진다. (1 ≤ N ≤ 10, 1 ≤ K ≤ 100,000,000)\n",
        "\n",
        "둘째 줄부터 N개의 줄에 동전의 가치 Ai가 오름차순으로 주어진다. (1 ≤ Ai ≤ 1,000,000, A1 = 1, i ≥ 2인 경우에 Ai는 Ai-1의 배수)\n",
        "\n",
        "#### 출력\n",
        "첫째 줄에 K원을 만드는데 필요한 동전 개수의 최솟값을 출력한다.\n",
        "\n",
        "#### 예제 입력\n",
        "    10 4200\n",
        "    1\n",
        "    5\n",
        "    10\n",
        "    50\n",
        "    100\n",
        "    500\n",
        "    1000\n",
        "    5000\n",
        "    10000\n",
        "    50000\n",
        "    \n",
        "#### 예제 출력\n",
        "    6"
      ],
      "id": "435458f1"
    },
    {
      "cell_type": "markdown",
      "metadata": {
        "id": "TUnotPwyLpHW"
      },
      "source": [
        "### 내 답"
      ],
      "id": "TUnotPwyLpHW"
    },
    {
      "cell_type": "code",
      "metadata": {
        "colab": {
          "base_uri": "https://localhost:8080/"
        },
        "id": "Lfq6gLX7UCGu",
        "outputId": "62d65338-28a5-4a97-d17b-d4ad155dd60b"
      },
      "source": [
        "n, k = map(int,input().split())\n",
        "\n",
        "coins = [int(input()) for _ in range(n)]\n",
        "coins.sort(reverse=True)\n",
        "\n",
        "ans = 0\n",
        "for coin in coins:\n",
        "  if coin <= k:\n",
        "    ans += k // coin\n",
        "    k %= coin\n",
        "\n",
        "print(ans)"
      ],
      "id": "Lfq6gLX7UCGu",
      "execution_count": 73,
      "outputs": [
        {
          "output_type": "stream",
          "name": "stdout",
          "text": [
            "5 24323\n",
            "1\n",
            "10\n",
            "50\n",
            "100\n",
            "500\n",
            "56\n"
          ]
        }
      ]
    },
    {
      "cell_type": "markdown",
      "metadata": {
        "id": "c05cb8b3"
      },
      "source": [
        "### 해설"
      ],
      "id": "c05cb8b3"
    },
    {
      "cell_type": "code",
      "metadata": {
        "colab": {
          "base_uri": "https://localhost:8080/"
        },
        "id": "72c76ff3",
        "outputId": "4ef98064-5948-49ab-c325-cf733644c89e"
      },
      "source": [
        "n, k = map(int,input().split())\n",
        "coin = []\n",
        "for i in range(n):\n",
        "    coin.append(int(input()))\n",
        "coin.sort(reverse=True)\n",
        "\n",
        "count = 0\n",
        "for i in coin:\n",
        "    if k == 0:\n",
        "        break\n",
        "    count += k // i\n",
        "    k %= i\n",
        "\n",
        "print(count)"
      ],
      "id": "72c76ff3",
      "execution_count": 75,
      "outputs": [
        {
          "output_type": "stream",
          "name": "stdout",
          "text": [
            "5 24323\n",
            "1\n",
            "10\n",
            "50\n",
            "100\n",
            "500\n",
            "56\n"
          ]
        }
      ]
    },
    {
      "cell_type": "markdown",
      "metadata": {
        "id": "bgriwS-NgSSj"
      },
      "source": [
        "# 문제7부터 풀면 되고, 해당 풀이는 백준에 올릴 것."
      ],
      "id": "bgriwS-NgSSj"
    },
    {
      "cell_type": "markdown",
      "metadata": {
        "id": "f47a8027"
      },
      "source": [
        "## 문제7 - 백준 2217 로프\n",
        "https://www.acmicpc.net/problem/2217\n",
        "\n",
        "N(1 ≤ N ≤ 100,000)개의 로프가 있다. 이 로프를 이용하여 이런 저런 물체를 들어올릴 수 있다. 각각의 로프는 그 굵기나 길이가 다르기 때문에 들 수 있는 물체의 중량이 서로 다를 수도 있다.\n",
        "\n",
        "하지만 여러 개의 로프를 병렬로 연결하면 각각의 로프에 걸리는 중량을 나눌 수 있다. k개의 로프를 사용하여 중량이 w인 물체를 들어올릴 때, 각각의 로프에는 모두 고르게 w/k 만큼의 중량이 걸리게 된다.\n",
        "\n",
        "각 로프들에 대한 정보가 주어졌을 때, 이 로프들을 이용하여 들어올릴 수 있는 물체의 최대 중량을 구해내는 프로그램을 작성하시오. 모든 로프를 사용해야 할 필요는 없으며, 임의로 몇 개의 로프를 골라서 사용해도 된다."
      ],
      "id": "f47a8027"
    },
    {
      "cell_type": "code",
      "metadata": {
        "scrolled": true,
        "id": "2391f24f",
        "outputId": "bae7a20c-c9da-4d71-ee8e-f4ea76b75412"
      },
      "source": [
        "n = int(input())\n",
        "weight = []\n",
        "for i in range(n):\n",
        "    weight.append(int(input()))\n",
        "    #weight.append(int(sys.stdin.readline())) 를 넣는 것이 시간단축\n",
        "weight.sort()\n",
        "\n",
        "case = []\n",
        "for i in range(n):\n",
        "    case.append(weight[i]*(n-i))\n",
        "    \n",
        "print(max(case))"
      ],
      "id": "2391f24f",
      "execution_count": null,
      "outputs": [
        {
          "name": "stdout",
          "output_type": "stream",
          "text": [
            "5\n",
            "5\n",
            "8\n",
            "10\n",
            "16\n",
            "20\n",
            "32\n"
          ]
        }
      ]
    },
    {
      "cell_type": "markdown",
      "metadata": {
        "id": "1e3bb727"
      },
      "source": [
        "## 문제8 - 백준 2875 대회 or 인턴\n",
        "https://www.acmicpc.net/problem/2875\n",
        "\n",
        "백준대학교에서는 대회에 나갈 때 2명의 여학생과 1명의 남학생이 팀을 결성해서 나가는 것이 원칙이다. (왜인지는 총장님께 여쭈어보는 것이 좋겠다.)\n",
        "\n",
        "백준대학교는 뛰어난 인재들이 많아 올해에도 N명의 여학생과 M명의 남학생이 팀원을 찾고 있다. 대회에 참여하려는 학생들 중 K명은 반드시 인턴쉽 프로그램에 참여해야 한다. 인턴쉽에 참여하는 학생은 대회에 참여하지 못한다.\n",
        "\n",
        "백준대학교에서는 뛰어난 인재들이 많기 때문에, 많은 팀을 만드는 것이 최선이다.\n",
        "\n",
        "여러분은 여학생의 수 N, 남학생의 수 M, 인턴쉽에 참여해야하는 인원 K가 주어질 때 만들 수 있는 최대의 팀 수를 구하면 된다."
      ],
      "id": "1e3bb727"
    },
    {
      "cell_type": "code",
      "metadata": {
        "id": "97eb6789",
        "outputId": "12fba38a-3941-4d70-870f-e94f1e200981"
      },
      "source": [
        "import sys\n",
        "a, b, c = map(int,sys.stdin.readline().split())\n",
        "print(a,b,c)"
      ],
      "id": "97eb6789",
      "execution_count": null,
      "outputs": [
        {
          "ename": "ValueError",
          "evalue": "not enough values to unpack (expected 3, got 0)",
          "output_type": "error",
          "traceback": [
            "\u001b[1;31m---------------------------------------------------------------------------\u001b[0m",
            "\u001b[1;31mValueError\u001b[0m                                Traceback (most recent call last)",
            "\u001b[1;32m<ipython-input-2-995240e1a693>\u001b[0m in \u001b[0;36m<module>\u001b[1;34m\u001b[0m\n\u001b[0;32m      1\u001b[0m \u001b[1;32mimport\u001b[0m \u001b[0msys\u001b[0m\u001b[1;33m\u001b[0m\u001b[1;33m\u001b[0m\u001b[0m\n\u001b[1;32m----> 2\u001b[1;33m \u001b[0ma\u001b[0m\u001b[1;33m,\u001b[0m \u001b[0mb\u001b[0m\u001b[1;33m,\u001b[0m \u001b[0mc\u001b[0m \u001b[1;33m=\u001b[0m \u001b[0mmap\u001b[0m\u001b[1;33m(\u001b[0m\u001b[0mint\u001b[0m\u001b[1;33m,\u001b[0m\u001b[0msys\u001b[0m\u001b[1;33m.\u001b[0m\u001b[0mstdin\u001b[0m\u001b[1;33m.\u001b[0m\u001b[0mreadline\u001b[0m\u001b[1;33m(\u001b[0m\u001b[1;33m)\u001b[0m\u001b[1;33m.\u001b[0m\u001b[0msplit\u001b[0m\u001b[1;33m(\u001b[0m\u001b[1;33m)\u001b[0m\u001b[1;33m)\u001b[0m\u001b[1;33m\u001b[0m\u001b[1;33m\u001b[0m\u001b[0m\n\u001b[0m\u001b[0;32m      3\u001b[0m \u001b[0mprint\u001b[0m\u001b[1;33m(\u001b[0m\u001b[0ma\u001b[0m\u001b[1;33m,\u001b[0m\u001b[0mb\u001b[0m\u001b[1;33m,\u001b[0m\u001b[0mc\u001b[0m\u001b[1;33m)\u001b[0m\u001b[1;33m\u001b[0m\u001b[1;33m\u001b[0m\u001b[0m\n",
            "\u001b[1;31mValueError\u001b[0m: not enough values to unpack (expected 3, got 0)"
          ]
        }
      ]
    },
    {
      "cell_type": "code",
      "metadata": {
        "id": "2233f3e8"
      },
      "source": [
        ""
      ],
      "id": "2233f3e8",
      "execution_count": null,
      "outputs": []
    }
  ]
}